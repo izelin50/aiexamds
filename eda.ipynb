{
 "cells": [
  {
   "cell_type": "code",
   "id": "initial_id",
   "metadata": {
    "collapsed": true,
    "ExecuteTime": {
     "end_time": "2025-08-07T08:08:20.444080Z",
     "start_time": "2025-08-07T08:08:19.198974Z"
    }
   },
   "source": [
    "import polars as pl\n",
    "import seaborn as sns\n",
    "import matplotlib.pyplot as plt\n",
    "df = pl.read_parquet(\"transaction_fraud_data.parquet\")"
   ],
   "outputs": [],
   "execution_count": 1
  },
  {
   "metadata": {
    "ExecuteTime": {
     "end_time": "2025-08-07T07:38:19.031253Z",
     "start_time": "2025-08-07T07:38:19.022284Z"
    }
   },
   "cell_type": "code",
   "source": "df.head()",
   "id": "ccd711050f2f0e70",
   "outputs": [
    {
     "data": {
      "text/plain": [
       "shape: (5, 23)\n",
       "┌───────────┬───────────┬───────────┬───────────┬───┬───────────┬───────────┬───────────┬──────────┐\n",
       "│ transacti ┆ customer_ ┆ card_numb ┆ timestamp ┆ … ┆ is_high_r ┆ is_weeken ┆ last_hour ┆ is_fraud │\n",
       "│ on_id     ┆ id        ┆ er        ┆ ---       ┆   ┆ isk_vendo ┆ d         ┆ _activity ┆ ---      │\n",
       "│ ---       ┆ ---       ┆ ---       ┆ datetime[ ┆   ┆ r         ┆ ---       ┆ ---       ┆ bool     │\n",
       "│ str       ┆ str       ┆ i64       ┆ μs]       ┆   ┆ ---       ┆ bool      ┆ struct[5] ┆          │\n",
       "│           ┆           ┆           ┆           ┆   ┆ bool      ┆           ┆           ┆          │\n",
       "╞═══════════╪═══════════╪═══════════╪═══════════╪═══╪═══════════╪═══════════╪═══════════╪══════════╡\n",
       "│ TX_a0ad2a ┆ CUST_7288 ┆ 664673476 ┆ 2024-09-3 ┆ … ┆ false     ┆ false     ┆ {1197,3.3 ┆ false    │\n",
       "│ 2a        ┆ 6         ┆ 7813109   ┆ 0 00:00:0 ┆   ┆           ┆           ┆ 499e7,105 ┆          │\n",
       "│           ┆           ┆           ┆ 1.034820  ┆   ┆           ┆           ┆ ,12,1.925 ┆          │\n",
       "│           ┆           ┆           ┆           ┆   ┆           ┆           ┆ 5e6…      ┆          │\n",
       "│ TX_3599c1 ┆ CUST_7047 ┆ 376800864 ┆ 2024-09-3 ┆ … ┆ true      ┆ false     ┆ {509,2.01 ┆ true     │\n",
       "│ 01        ┆ 4         ┆ 692727    ┆ 0 00:00:0 ┆   ┆           ┆           ┆ 15e7,100, ┆          │\n",
       "│           ┆           ┆           ┆ 1.764464  ┆   ┆           ┆           ┆ 12,5.1491 ┆          │\n",
       "│           ┆           ┆           ┆           ┆   ┆           ┆           ┆ e6}       ┆          │\n",
       "│ TX_a9461c ┆ CUST_1071 ┆ 525190946 ┆ 2024-09-3 ┆ … ┆ false     ┆ false     ┆ {332,3.91 ┆ false    │\n",
       "│ 6d        ┆ 5         ┆ 0951913   ┆ 0 00:00:0 ┆   ┆           ┆           ┆ 64e7,97,1 ┆          │\n",
       "│           ┆           ┆           ┆ 2.273762  ┆   ┆           ┆           ┆ 2,1.8522e ┆          │\n",
       "│           ┆           ┆           ┆           ┆   ┆           ┆           ┆ 6}        ┆          │\n",
       "│ TX_7be21f ┆ CUST_1619 ┆ 376079286 ┆ 2024-09-3 ┆ … ┆ false     ┆ false     ┆ {764,2.20 ┆ false    │\n",
       "│ c4        ┆ 3         ┆ 931183    ┆ 0 00:00:0 ┆   ┆           ┆           ┆ 13e7,105, ┆          │\n",
       "│           ┆           ┆           ┆ 2.297466  ┆   ┆           ┆           ┆ 12,2.0558 ┆          │\n",
       "│           ┆           ┆           ┆           ┆   ┆           ┆           ┆ e6}       ┆          │\n",
       "│ TX_150f49 ┆ CUST_8757 ┆ 617294805 ┆ 2024-09-3 ┆ … ┆ false     ┆ false     ┆ {218,4.82 ┆ true     │\n",
       "│ 0b        ┆ 2         ┆ 2178810   ┆ 0 00:00:0 ┆   ┆           ┆           ┆ 76e6,88,1 ┆          │\n",
       "│           ┆           ┆           ┆ 2.544063  ┆   ┆           ┆           ┆ 2,1.1572e ┆          │\n",
       "│           ┆           ┆           ┆           ┆   ┆           ┆           ┆ 6}        ┆          │\n",
       "└───────────┴───────────┴───────────┴───────────┴───┴───────────┴───────────┴───────────┴──────────┘"
      ],
      "text/html": [
       "<div><style>\n",
       ".dataframe > thead > tr,\n",
       ".dataframe > tbody > tr {\n",
       "  text-align: right;\n",
       "  white-space: pre-wrap;\n",
       "}\n",
       "</style>\n",
       "<small>shape: (5, 23)</small><table border=\"1\" class=\"dataframe\"><thead><tr><th>transaction_id</th><th>customer_id</th><th>card_number</th><th>timestamp</th><th>vendor_category</th><th>vendor_type</th><th>vendor</th><th>amount</th><th>currency</th><th>country</th><th>city</th><th>city_size</th><th>card_type</th><th>is_card_present</th><th>device</th><th>channel</th><th>device_fingerprint</th><th>ip_address</th><th>is_outside_home_country</th><th>is_high_risk_vendor</th><th>is_weekend</th><th>last_hour_activity</th><th>is_fraud</th></tr><tr><td>str</td><td>str</td><td>i64</td><td>datetime[μs]</td><td>str</td><td>str</td><td>str</td><td>f64</td><td>str</td><td>str</td><td>str</td><td>str</td><td>str</td><td>bool</td><td>str</td><td>str</td><td>str</td><td>str</td><td>bool</td><td>bool</td><td>bool</td><td>struct[5]</td><td>bool</td></tr></thead><tbody><tr><td>&quot;TX_a0ad2a2a&quot;</td><td>&quot;CUST_72886&quot;</td><td>6646734767813109</td><td>2024-09-30 00:00:01.034820</td><td>&quot;Restaurant&quot;</td><td>&quot;fast_food&quot;</td><td>&quot;Taco Bell&quot;</td><td>294.87</td><td>&quot;GBP&quot;</td><td>&quot;UK&quot;</td><td>&quot;Unknown City&quot;</td><td>&quot;medium&quot;</td><td>&quot;Platinum Credit&quot;</td><td>false</td><td>&quot;iOS App&quot;</td><td>&quot;mobile&quot;</td><td>&quot;e8e6160445c935fd0001501e4cbac8…</td><td>&quot;197.153.60.199&quot;</td><td>false</td><td>false</td><td>false</td><td>{1197,3.3499e7,105,12,1.9255e6}</td><td>false</td></tr><tr><td>&quot;TX_3599c101&quot;</td><td>&quot;CUST_70474&quot;</td><td>376800864692727</td><td>2024-09-30 00:00:01.764464</td><td>&quot;Entertainment&quot;</td><td>&quot;gaming&quot;</td><td>&quot;Steam&quot;</td><td>3368.97</td><td>&quot;BRL&quot;</td><td>&quot;Brazil&quot;</td><td>&quot;Unknown City&quot;</td><td>&quot;medium&quot;</td><td>&quot;Platinum Credit&quot;</td><td>false</td><td>&quot;Edge&quot;</td><td>&quot;web&quot;</td><td>&quot;a73043a57091e775af37f252b3a32a…</td><td>&quot;208.123.221.203&quot;</td><td>true</td><td>true</td><td>false</td><td>{509,2.0115e7,100,12,5.1491e6}</td><td>true</td></tr><tr><td>&quot;TX_a9461c6d&quot;</td><td>&quot;CUST_10715&quot;</td><td>5251909460951913</td><td>2024-09-30 00:00:02.273762</td><td>&quot;Grocery&quot;</td><td>&quot;physical&quot;</td><td>&quot;Whole Foods&quot;</td><td>102582.38</td><td>&quot;JPY&quot;</td><td>&quot;Japan&quot;</td><td>&quot;Unknown City&quot;</td><td>&quot;medium&quot;</td><td>&quot;Platinum Credit&quot;</td><td>false</td><td>&quot;Firefox&quot;</td><td>&quot;web&quot;</td><td>&quot;218864e94ceaa41577d216b1497222…</td><td>&quot;10.194.159.204&quot;</td><td>false</td><td>false</td><td>false</td><td>{332,3.9164e7,97,12,1.8522e6}</td><td>false</td></tr><tr><td>&quot;TX_7be21fc4&quot;</td><td>&quot;CUST_16193&quot;</td><td>376079286931183</td><td>2024-09-30 00:00:02.297466</td><td>&quot;Gas&quot;</td><td>&quot;major&quot;</td><td>&quot;Exxon&quot;</td><td>630.6</td><td>&quot;AUD&quot;</td><td>&quot;Australia&quot;</td><td>&quot;Unknown City&quot;</td><td>&quot;medium&quot;</td><td>&quot;Premium Debit&quot;</td><td>false</td><td>&quot;iOS App&quot;</td><td>&quot;mobile&quot;</td><td>&quot;70423fa3a1e74d01203cf93b51b963…</td><td>&quot;17.230.177.225&quot;</td><td>false</td><td>false</td><td>false</td><td>{764,2.2013e7,105,12,2.0558e6}</td><td>false</td></tr><tr><td>&quot;TX_150f490b&quot;</td><td>&quot;CUST_87572&quot;</td><td>6172948052178810</td><td>2024-09-30 00:00:02.544063</td><td>&quot;Healthcare&quot;</td><td>&quot;medical&quot;</td><td>&quot;Medical Center&quot;</td><td>724949.27</td><td>&quot;NGN&quot;</td><td>&quot;Nigeria&quot;</td><td>&quot;Unknown City&quot;</td><td>&quot;medium&quot;</td><td>&quot;Basic Debit&quot;</td><td>false</td><td>&quot;Chrome&quot;</td><td>&quot;web&quot;</td><td>&quot;9880776c7b6038f2af86bd4e18a1b1…</td><td>&quot;136.241.219.151&quot;</td><td>true</td><td>false</td><td>false</td><td>{218,4.8276e6,88,12,1.1572e6}</td><td>true</td></tr></tbody></table></div>"
      ]
     },
     "execution_count": 47,
     "metadata": {},
     "output_type": "execute_result"
    }
   ],
   "execution_count": 47
  },
  {
   "metadata": {},
   "cell_type": "markdown",
   "source": "# Гипотеза 1: айфоны",
   "id": "b388c1c2d163ba4"
  },
  {
   "metadata": {
    "ExecuteTime": {
     "end_time": "2025-08-06T23:22:48.968203Z",
     "start_time": "2025-08-06T23:22:48.726423Z"
    }
   },
   "cell_type": "code",
   "source": [
    "# фильтрация high-risk транзакций\n",
    "high_risk_df = df.filter(\n",
    "    pl.col(\"is_high_risk_vendor\") & (pl.col(\"device\").is_not_null())\n",
    ")"
   ],
   "id": "f602919ca2a139c1",
   "outputs": [],
   "execution_count": 10
  },
  {
   "metadata": {
    "ExecuteTime": {
     "end_time": "2025-08-06T23:27:48.145215Z",
     "start_time": "2025-08-06T23:27:48.101217Z"
    }
   },
   "cell_type": "code",
   "source": [
    "fraud_rates_by_device = (\n",
    "    high_risk_df\n",
    "    .with_columns([\n",
    "        pl.when(pl.col(\"device\") == \"iOS App\")\n",
    "          .then(\"device\")\n",
    "          .otherwise(pl.lit(\"Other\"))\n",
    "          .alias(\"device_group\")\n",
    "    ])\n",
    "    .group_by(\"device_group\")\n",
    "    .agg([\n",
    "        pl.len().alias(\"total\"),\n",
    "        pl.col(\"is_fraud\").sum().alias(\"frauds\")\n",
    "    ])\n",
    "    .with_columns([\n",
    "        (pl.col(\"frauds\") / pl.col(\"total\")).alias(\"fraud_rate\")\n",
    "    ])\n",
    ")\n",
    "\n",
    "\n",
    "fraud_rates_by_device\n"
   ],
   "id": "80d1db3e258ede16",
   "outputs": [
    {
     "data": {
      "text/plain": [
       "shape: (2, 4)\n",
       "┌──────────────┬─────────┬────────┬────────────┐\n",
       "│ device_group ┆ total   ┆ frauds ┆ fraud_rate │\n",
       "│ ---          ┆ ---     ┆ ---    ┆ ---        │\n",
       "│ str          ┆ u32     ┆ u32    ┆ f64        │\n",
       "╞══════════════╪═════════╪════════╪════════════╡\n",
       "│ iOS App      ┆ 285759  ┆ 35090  ┆ 0.122796   │\n",
       "│ Other        ┆ 1586204 ┆ 339277 ┆ 0.213892   │\n",
       "└──────────────┴─────────┴────────┴────────────┘"
      ],
      "text/html": [
       "<div><style>\n",
       ".dataframe > thead > tr,\n",
       ".dataframe > tbody > tr {\n",
       "  text-align: right;\n",
       "  white-space: pre-wrap;\n",
       "}\n",
       "</style>\n",
       "<small>shape: (2, 4)</small><table border=\"1\" class=\"dataframe\"><thead><tr><th>device_group</th><th>total</th><th>frauds</th><th>fraud_rate</th></tr><tr><td>str</td><td>u32</td><td>u32</td><td>f64</td></tr></thead><tbody><tr><td>&quot;iOS App&quot;</td><td>285759</td><td>35090</td><td>0.122796</td></tr><tr><td>&quot;Other&quot;</td><td>1586204</td><td>339277</td><td>0.213892</td></tr></tbody></table></div>"
      ]
     },
     "execution_count": 20,
     "metadata": {},
     "output_type": "execute_result"
    }
   ],
   "execution_count": 20
  },
  {
   "metadata": {},
   "cell_type": "markdown",
   "source": "# Гипотеза 2: выходные, страны...",
   "id": "40f413dee81c1653"
  },
  {
   "metadata": {
    "ExecuteTime": {
     "end_time": "2025-08-06T23:34:53.339433Z",
     "start_time": "2025-08-06T23:34:53.329856Z"
    }
   },
   "cell_type": "code",
   "source": [
    "\n",
    "weekend_offline_df = (\n",
    "    df.filter(\n",
    "        (pl.col(\"last_hour_activity\").is_not_null())\n",
    "    )\n",
    "    .select([\n",
    "        \"is_weekend\",\n",
    "        \"is_fraud\",\n",
    "        pl.col(\"last_hour_activity\").struct.field(\"num_transactions\").alias(\"activity\")\n",
    "    ])\n",
    ")\n"
   ],
   "id": "b89dfde5ba5947b8",
   "outputs": [],
   "execution_count": 41
  },
  {
   "metadata": {
    "ExecuteTime": {
     "end_time": "2025-08-06T23:34:54.596887Z",
     "start_time": "2025-08-06T23:34:54.511502Z"
    }
   },
   "cell_type": "code",
   "source": [
    "# биннинг активности по группам\n",
    "weekend_offline_df = weekend_offline_df.with_columns(\n",
    "    pl.when(pl.col(\"activity\") < 2).then(pl.lit(\"Low\"))\n",
    "    .when(pl.col(\"activity\") < 5).then(pl.lit(\"Medium\"))\n",
    "    .otherwise(pl.lit(\"High\")).alias(\"activity_level\")\n",
    ")\n"
   ],
   "id": "c43a8517dc804769",
   "outputs": [],
   "execution_count": 42
  },
  {
   "metadata": {
    "ExecuteTime": {
     "end_time": "2025-08-06T23:35:14.935175Z",
     "start_time": "2025-08-06T23:35:14.755558Z"
    }
   },
   "cell_type": "code",
   "source": [
    "#fraud rate по выходным/невыходным и уровню активности\n",
    "import plotly.express as px\n",
    "agg_df = (\n",
    "    weekend_offline_df\n",
    "    .group_by([\"is_weekend\", \"activity_level\"])\n",
    "    .agg([\n",
    "        pl.len().alias(\"total\"),\n",
    "        pl.col(\"is_fraud\").sum().alias(\"frauds\")\n",
    "    ])\n",
    "    .with_columns([\n",
    "        (pl.col(\"frauds\") / pl.col(\"total\")).alias(\"fraud_rate\")\n",
    "    ])\n",
    "    .to_pandas()\n",
    ")\n",
    "\n",
    "fig = px.bar(\n",
    "    agg_df,\n",
    "    x=\"activity_level\",\n",
    "    y=\"fraud_rate\",\n",
    "    color=\"is_weekend\",\n",
    "    barmode=\"group\",\n",
    "    title=\"Fraud Rate by Activity Level & Weekend\"\n",
    ")\n",
    "fig.show()\n"
   ],
   "id": "375a22560a1ce7d1",
   "outputs": [
    {
     "data": {
      "application/vnd.plotly.v1+json": {
       "data": [
        {
         "alignmentgroup": "True",
         "hovertemplate": "is_weekend=True<br>activity_level=%{x}<br>fraud_rate=%{y}<extra></extra>",
         "legendgroup": "True",
         "marker": {
          "color": "#636efa",
          "pattern": {
           "shape": ""
          }
         },
         "name": "True",
         "offsetgroup": "True",
         "orientation": "v",
         "showlegend": true,
         "textposition": "auto",
         "x": [
          "Low",
          "High",
          "Medium"
         ],
         "xaxis": "x",
         "y": {
          "dtype": "f8",
          "bdata": "IelnWd/myD/1dxffy5PJPyuLrgABicg/"
         },
         "yaxis": "y",
         "type": "bar"
        },
        {
         "alignmentgroup": "True",
         "hovertemplate": "is_weekend=False<br>activity_level=%{x}<br>fraud_rate=%{y}<extra></extra>",
         "legendgroup": "False",
         "marker": {
          "color": "#EF553B",
          "pattern": {
           "shape": ""
          }
         },
         "name": "False",
         "offsetgroup": "False",
         "orientation": "v",
         "showlegend": true,
         "textposition": "auto",
         "x": [
          "Low",
          "High",
          "Medium"
         ],
         "xaxis": "x",
         "y": {
          "dtype": "f8",
          "bdata": "FxQ8AKE3xj8wOzwIU6TJP0eTpyfvXMY/"
         },
         "yaxis": "y",
         "type": "bar"
        }
       ],
       "layout": {
        "template": {
         "data": {
          "histogram2dcontour": [
           {
            "type": "histogram2dcontour",
            "colorbar": {
             "outlinewidth": 0,
             "ticks": ""
            },
            "colorscale": [
             [
              0.0,
              "#0d0887"
             ],
             [
              0.1111111111111111,
              "#46039f"
             ],
             [
              0.2222222222222222,
              "#7201a8"
             ],
             [
              0.3333333333333333,
              "#9c179e"
             ],
             [
              0.4444444444444444,
              "#bd3786"
             ],
             [
              0.5555555555555556,
              "#d8576b"
             ],
             [
              0.6666666666666666,
              "#ed7953"
             ],
             [
              0.7777777777777778,
              "#fb9f3a"
             ],
             [
              0.8888888888888888,
              "#fdca26"
             ],
             [
              1.0,
              "#f0f921"
             ]
            ]
           }
          ],
          "choropleth": [
           {
            "type": "choropleth",
            "colorbar": {
             "outlinewidth": 0,
             "ticks": ""
            }
           }
          ],
          "histogram2d": [
           {
            "type": "histogram2d",
            "colorbar": {
             "outlinewidth": 0,
             "ticks": ""
            },
            "colorscale": [
             [
              0.0,
              "#0d0887"
             ],
             [
              0.1111111111111111,
              "#46039f"
             ],
             [
              0.2222222222222222,
              "#7201a8"
             ],
             [
              0.3333333333333333,
              "#9c179e"
             ],
             [
              0.4444444444444444,
              "#bd3786"
             ],
             [
              0.5555555555555556,
              "#d8576b"
             ],
             [
              0.6666666666666666,
              "#ed7953"
             ],
             [
              0.7777777777777778,
              "#fb9f3a"
             ],
             [
              0.8888888888888888,
              "#fdca26"
             ],
             [
              1.0,
              "#f0f921"
             ]
            ]
           }
          ],
          "heatmap": [
           {
            "type": "heatmap",
            "colorbar": {
             "outlinewidth": 0,
             "ticks": ""
            },
            "colorscale": [
             [
              0.0,
              "#0d0887"
             ],
             [
              0.1111111111111111,
              "#46039f"
             ],
             [
              0.2222222222222222,
              "#7201a8"
             ],
             [
              0.3333333333333333,
              "#9c179e"
             ],
             [
              0.4444444444444444,
              "#bd3786"
             ],
             [
              0.5555555555555556,
              "#d8576b"
             ],
             [
              0.6666666666666666,
              "#ed7953"
             ],
             [
              0.7777777777777778,
              "#fb9f3a"
             ],
             [
              0.8888888888888888,
              "#fdca26"
             ],
             [
              1.0,
              "#f0f921"
             ]
            ]
           }
          ],
          "contourcarpet": [
           {
            "type": "contourcarpet",
            "colorbar": {
             "outlinewidth": 0,
             "ticks": ""
            }
           }
          ],
          "contour": [
           {
            "type": "contour",
            "colorbar": {
             "outlinewidth": 0,
             "ticks": ""
            },
            "colorscale": [
             [
              0.0,
              "#0d0887"
             ],
             [
              0.1111111111111111,
              "#46039f"
             ],
             [
              0.2222222222222222,
              "#7201a8"
             ],
             [
              0.3333333333333333,
              "#9c179e"
             ],
             [
              0.4444444444444444,
              "#bd3786"
             ],
             [
              0.5555555555555556,
              "#d8576b"
             ],
             [
              0.6666666666666666,
              "#ed7953"
             ],
             [
              0.7777777777777778,
              "#fb9f3a"
             ],
             [
              0.8888888888888888,
              "#fdca26"
             ],
             [
              1.0,
              "#f0f921"
             ]
            ]
           }
          ],
          "surface": [
           {
            "type": "surface",
            "colorbar": {
             "outlinewidth": 0,
             "ticks": ""
            },
            "colorscale": [
             [
              0.0,
              "#0d0887"
             ],
             [
              0.1111111111111111,
              "#46039f"
             ],
             [
              0.2222222222222222,
              "#7201a8"
             ],
             [
              0.3333333333333333,
              "#9c179e"
             ],
             [
              0.4444444444444444,
              "#bd3786"
             ],
             [
              0.5555555555555556,
              "#d8576b"
             ],
             [
              0.6666666666666666,
              "#ed7953"
             ],
             [
              0.7777777777777778,
              "#fb9f3a"
             ],
             [
              0.8888888888888888,
              "#fdca26"
             ],
             [
              1.0,
              "#f0f921"
             ]
            ]
           }
          ],
          "mesh3d": [
           {
            "type": "mesh3d",
            "colorbar": {
             "outlinewidth": 0,
             "ticks": ""
            }
           }
          ],
          "scatter": [
           {
            "fillpattern": {
             "fillmode": "overlay",
             "size": 10,
             "solidity": 0.2
            },
            "type": "scatter"
           }
          ],
          "parcoords": [
           {
            "type": "parcoords",
            "line": {
             "colorbar": {
              "outlinewidth": 0,
              "ticks": ""
             }
            }
           }
          ],
          "scatterpolargl": [
           {
            "type": "scatterpolargl",
            "marker": {
             "colorbar": {
              "outlinewidth": 0,
              "ticks": ""
             }
            }
           }
          ],
          "bar": [
           {
            "error_x": {
             "color": "#2a3f5f"
            },
            "error_y": {
             "color": "#2a3f5f"
            },
            "marker": {
             "line": {
              "color": "#E5ECF6",
              "width": 0.5
             },
             "pattern": {
              "fillmode": "overlay",
              "size": 10,
              "solidity": 0.2
             }
            },
            "type": "bar"
           }
          ],
          "scattergeo": [
           {
            "type": "scattergeo",
            "marker": {
             "colorbar": {
              "outlinewidth": 0,
              "ticks": ""
             }
            }
           }
          ],
          "scatterpolar": [
           {
            "type": "scatterpolar",
            "marker": {
             "colorbar": {
              "outlinewidth": 0,
              "ticks": ""
             }
            }
           }
          ],
          "histogram": [
           {
            "marker": {
             "pattern": {
              "fillmode": "overlay",
              "size": 10,
              "solidity": 0.2
             }
            },
            "type": "histogram"
           }
          ],
          "scattergl": [
           {
            "type": "scattergl",
            "marker": {
             "colorbar": {
              "outlinewidth": 0,
              "ticks": ""
             }
            }
           }
          ],
          "scatter3d": [
           {
            "type": "scatter3d",
            "line": {
             "colorbar": {
              "outlinewidth": 0,
              "ticks": ""
             }
            },
            "marker": {
             "colorbar": {
              "outlinewidth": 0,
              "ticks": ""
             }
            }
           }
          ],
          "scattermap": [
           {
            "type": "scattermap",
            "marker": {
             "colorbar": {
              "outlinewidth": 0,
              "ticks": ""
             }
            }
           }
          ],
          "scattermapbox": [
           {
            "type": "scattermapbox",
            "marker": {
             "colorbar": {
              "outlinewidth": 0,
              "ticks": ""
             }
            }
           }
          ],
          "scatterternary": [
           {
            "type": "scatterternary",
            "marker": {
             "colorbar": {
              "outlinewidth": 0,
              "ticks": ""
             }
            }
           }
          ],
          "scattercarpet": [
           {
            "type": "scattercarpet",
            "marker": {
             "colorbar": {
              "outlinewidth": 0,
              "ticks": ""
             }
            }
           }
          ],
          "carpet": [
           {
            "aaxis": {
             "endlinecolor": "#2a3f5f",
             "gridcolor": "white",
             "linecolor": "white",
             "minorgridcolor": "white",
             "startlinecolor": "#2a3f5f"
            },
            "baxis": {
             "endlinecolor": "#2a3f5f",
             "gridcolor": "white",
             "linecolor": "white",
             "minorgridcolor": "white",
             "startlinecolor": "#2a3f5f"
            },
            "type": "carpet"
           }
          ],
          "table": [
           {
            "cells": {
             "fill": {
              "color": "#EBF0F8"
             },
             "line": {
              "color": "white"
             }
            },
            "header": {
             "fill": {
              "color": "#C8D4E3"
             },
             "line": {
              "color": "white"
             }
            },
            "type": "table"
           }
          ],
          "barpolar": [
           {
            "marker": {
             "line": {
              "color": "#E5ECF6",
              "width": 0.5
             },
             "pattern": {
              "fillmode": "overlay",
              "size": 10,
              "solidity": 0.2
             }
            },
            "type": "barpolar"
           }
          ],
          "pie": [
           {
            "automargin": true,
            "type": "pie"
           }
          ]
         },
         "layout": {
          "autotypenumbers": "strict",
          "colorway": [
           "#636efa",
           "#EF553B",
           "#00cc96",
           "#ab63fa",
           "#FFA15A",
           "#19d3f3",
           "#FF6692",
           "#B6E880",
           "#FF97FF",
           "#FECB52"
          ],
          "font": {
           "color": "#2a3f5f"
          },
          "hovermode": "closest",
          "hoverlabel": {
           "align": "left"
          },
          "paper_bgcolor": "white",
          "plot_bgcolor": "#E5ECF6",
          "polar": {
           "bgcolor": "#E5ECF6",
           "angularaxis": {
            "gridcolor": "white",
            "linecolor": "white",
            "ticks": ""
           },
           "radialaxis": {
            "gridcolor": "white",
            "linecolor": "white",
            "ticks": ""
           }
          },
          "ternary": {
           "bgcolor": "#E5ECF6",
           "aaxis": {
            "gridcolor": "white",
            "linecolor": "white",
            "ticks": ""
           },
           "baxis": {
            "gridcolor": "white",
            "linecolor": "white",
            "ticks": ""
           },
           "caxis": {
            "gridcolor": "white",
            "linecolor": "white",
            "ticks": ""
           }
          },
          "coloraxis": {
           "colorbar": {
            "outlinewidth": 0,
            "ticks": ""
           }
          },
          "colorscale": {
           "sequential": [
            [
             0.0,
             "#0d0887"
            ],
            [
             0.1111111111111111,
             "#46039f"
            ],
            [
             0.2222222222222222,
             "#7201a8"
            ],
            [
             0.3333333333333333,
             "#9c179e"
            ],
            [
             0.4444444444444444,
             "#bd3786"
            ],
            [
             0.5555555555555556,
             "#d8576b"
            ],
            [
             0.6666666666666666,
             "#ed7953"
            ],
            [
             0.7777777777777778,
             "#fb9f3a"
            ],
            [
             0.8888888888888888,
             "#fdca26"
            ],
            [
             1.0,
             "#f0f921"
            ]
           ],
           "sequentialminus": [
            [
             0.0,
             "#0d0887"
            ],
            [
             0.1111111111111111,
             "#46039f"
            ],
            [
             0.2222222222222222,
             "#7201a8"
            ],
            [
             0.3333333333333333,
             "#9c179e"
            ],
            [
             0.4444444444444444,
             "#bd3786"
            ],
            [
             0.5555555555555556,
             "#d8576b"
            ],
            [
             0.6666666666666666,
             "#ed7953"
            ],
            [
             0.7777777777777778,
             "#fb9f3a"
            ],
            [
             0.8888888888888888,
             "#fdca26"
            ],
            [
             1.0,
             "#f0f921"
            ]
           ],
           "diverging": [
            [
             0,
             "#8e0152"
            ],
            [
             0.1,
             "#c51b7d"
            ],
            [
             0.2,
             "#de77ae"
            ],
            [
             0.3,
             "#f1b6da"
            ],
            [
             0.4,
             "#fde0ef"
            ],
            [
             0.5,
             "#f7f7f7"
            ],
            [
             0.6,
             "#e6f5d0"
            ],
            [
             0.7,
             "#b8e186"
            ],
            [
             0.8,
             "#7fbc41"
            ],
            [
             0.9,
             "#4d9221"
            ],
            [
             1,
             "#276419"
            ]
           ]
          },
          "xaxis": {
           "gridcolor": "white",
           "linecolor": "white",
           "ticks": "",
           "title": {
            "standoff": 15
           },
           "zerolinecolor": "white",
           "automargin": true,
           "zerolinewidth": 2
          },
          "yaxis": {
           "gridcolor": "white",
           "linecolor": "white",
           "ticks": "",
           "title": {
            "standoff": 15
           },
           "zerolinecolor": "white",
           "automargin": true,
           "zerolinewidth": 2
          },
          "scene": {
           "xaxis": {
            "backgroundcolor": "#E5ECF6",
            "gridcolor": "white",
            "linecolor": "white",
            "showbackground": true,
            "ticks": "",
            "zerolinecolor": "white",
            "gridwidth": 2
           },
           "yaxis": {
            "backgroundcolor": "#E5ECF6",
            "gridcolor": "white",
            "linecolor": "white",
            "showbackground": true,
            "ticks": "",
            "zerolinecolor": "white",
            "gridwidth": 2
           },
           "zaxis": {
            "backgroundcolor": "#E5ECF6",
            "gridcolor": "white",
            "linecolor": "white",
            "showbackground": true,
            "ticks": "",
            "zerolinecolor": "white",
            "gridwidth": 2
           }
          },
          "shapedefaults": {
           "line": {
            "color": "#2a3f5f"
           }
          },
          "annotationdefaults": {
           "arrowcolor": "#2a3f5f",
           "arrowhead": 0,
           "arrowwidth": 1
          },
          "geo": {
           "bgcolor": "white",
           "landcolor": "#E5ECF6",
           "subunitcolor": "white",
           "showland": true,
           "showlakes": true,
           "lakecolor": "white"
          },
          "title": {
           "x": 0.05
          },
          "mapbox": {
           "style": "light"
          }
         }
        },
        "xaxis": {
         "anchor": "y",
         "domain": [
          0.0,
          1.0
         ],
         "title": {
          "text": "activity_level"
         }
        },
        "yaxis": {
         "anchor": "x",
         "domain": [
          0.0,
          1.0
         ],
         "title": {
          "text": "fraud_rate"
         }
        },
        "legend": {
         "title": {
          "text": "is_weekend"
         },
         "tracegroupgap": 0
        },
        "title": {
         "text": "Fraud Rate by Activity Level & Weekend"
        },
        "barmode": "group"
       },
       "config": {
        "plotlyServerURL": "https://plot.ly"
       }
      }
     },
     "metadata": {},
     "output_type": "display_data"
    }
   ],
   "execution_count": 44
  },
  {
   "metadata": {
    "ExecuteTime": {
     "end_time": "2025-08-07T07:43:04.744139Z",
     "start_time": "2025-08-07T07:43:04.220569Z"
    }
   },
   "cell_type": "code",
   "source": [
    "weekend_countries = (\n",
    "    df\n",
    "    .filter(pl.col(\"country\").is_not_null())\n",
    "    .group_by([\"country\", \"is_weekend\"])\n",
    "    .agg([\n",
    "        pl.count().alias(\"total\"),\n",
    "        pl.col(\"is_fraud\").sum().alias(\"frauds\")\n",
    "    ])\n",
    "    .with_columns([\n",
    "        (pl.col(\"frauds\") / pl.col(\"total\")).alias(\"fraud_rate\")\n",
    "    ])\n",
    "    .sort(\"fraud_rate\", descending=True)\n",
    "    .to_pandas()\n",
    ")\n",
    "\n",
    "pivot = weekend_countries.pivot(index=\"country\", columns=\"is_weekend\", values=\"fraud_rate\")\n",
    "pivot.columns = [\"Weekday\", \"Weekend\"]  # False -> Weekday, True -> Weekend\n",
    "\n",
    "plt.figure(figsize=(10, 12))\n",
    "sns.heatmap(pivot, annot=True, fmt=\".2%\", cmap=\"coolwarm\", cbar_kws={\"label\": \"Fraud Rate\"})\n",
    "plt.title(\"Fraud Rate by Country and Weekend Status\")\n",
    "plt.ylabel(\"Country\")\n",
    "plt.xlabel(\"Day Type\")\n",
    "plt.tight_layout()\n",
    "plt.show()\n"
   ],
   "id": "1c1692c1008dc18c",
   "outputs": [
    {
     "name": "stderr",
     "output_type": "stream",
     "text": [
      "/tmp/ipykernel_381129/2008333047.py:6: DeprecationWarning:\n",
      "\n",
      "`pl.count()` is deprecated. Please use `pl.len()` instead.\n",
      "(Deprecated in version 0.20.5)\n",
      "\n"
     ]
    },
    {
     "data": {
      "text/plain": [
       "<Figure size 1000x1200 with 2 Axes>"
      ],
      "image/png": "[encoded data removed]"
     },
     "metadata": {},
     "output_type": "display_data"
    }
   ],
   "execution_count": 52
  },
  {
   "metadata": {},
   "cell_type": "markdown",
   "source": "# 3: Каналы по странам",
   "id": "1e11daa38abe8e98"
  },
  {
   "metadata": {},
   "cell_type": "markdown",
   "source": "# Страны и каналы",
   "id": "1cd2e7124ec1608c"
  },
  {
   "metadata": {
    "ExecuteTime": {
     "end_time": "2025-08-07T07:52:51.620273Z",
     "start_time": "2025-08-07T07:52:51.385814Z"
    }
   },
   "cell_type": "code",
   "source": [
    "channel_stats = (\n",
    "    df\n",
    "    .filter(pl.col(\"channel\").is_not_null())\n",
    "    .group_by(\"channel\")\n",
    "    .agg([\n",
    "        pl.count().alias(\"total_tx\"),\n",
    "        pl.col(\"is_fraud\").sum().alias(\"fraud_count\")\n",
    "    ])\n",
    "    .with_columns([\n",
    "        (pl.col(\"fraud_count\") / pl.col(\"total_tx\")).alias(\"fraud_rate\")\n",
    "    ])\n",
    "    .sort(\"fraud_rate\", descending=True)\n",
    "    .to_pandas()\n",
    ")\n",
    "\n",
    "\n",
    "plt.figure(figsize=(8, 5))\n",
    "sns.barplot(\n",
    "    data=channel_stats.sort_values(\"fraud_rate\", ascending=False),\n",
    "    x=\"fraud_rate\", y=\"channel\", palette=\"flare\"\n",
    ")\n",
    "plt.xlabel(\"Fraud Rate\")\n",
    "plt.ylabel(\"Channel\")\n",
    "plt.title(\"Fraud Rate by Channel\")\n",
    "plt.tight_layout()\n",
    "plt.show()\n"
   ],
   "id": "24baa4b942b1d5f2",
   "outputs": [
    {
     "name": "stderr",
     "output_type": "stream",
     "text": [
      "/tmp/ipykernel_381129/1282101859.py:6: DeprecationWarning:\n",
      "\n",
      "`pl.count()` is deprecated. Please use `pl.len()` instead.\n",
      "(Deprecated in version 0.20.5)\n",
      "\n",
      "/tmp/ipykernel_381129/1282101859.py:18: FutureWarning:\n",
      "\n",
      "\n",
      "\n",
      "Passing `palette` without assigning `hue` is deprecated and will be removed in v0.14.0. Assign the `y` variable to `hue` and set `legend=False` for the same effect.\n",
      "\n",
      "\n"
     ]
    },
    {
     "data": {
      "text/plain": [
       "<Figure size 800x500 with 1 Axes>"
      ],
      "image/png": "[encoded data removed]"
     },
     "metadata": {},
     "output_type": "display_data"
    }
   ],
   "execution_count": 64
  },
  {
   "metadata": {
    "ExecuteTime": {
     "end_time": "2025-08-07T07:53:42.622458Z",
     "start_time": "2025-08-07T07:53:42.363023Z"
    }
   },
   "cell_type": "code",
   "source": [
    "plt.figure(figsize=(8, 5))\n",
    "sns.barplot(\n",
    "    data=channel_stats.sort_values(\"total_tx\", ascending=False),\n",
    "    x=\"total_tx\", y=\"channel\", palette=\"crest\"\n",
    ")\n",
    "plt.xlabel(\"Total Transactions\")\n",
    "plt.xscale(\"log\")  # потому что разница может быть в разы\n",
    "plt.title(\"Transaction Volume by Channel (log scale)\")\n",
    "plt.tight_layout()\n",
    "plt.show()"
   ],
   "id": "799a7be4046754d5",
   "outputs": [
    {
     "name": "stderr",
     "output_type": "stream",
     "text": [
      "/tmp/ipykernel_381129/4000578197.py:2: FutureWarning:\n",
      "\n",
      "\n",
      "\n",
      "Passing `palette` without assigning `hue` is deprecated and will be removed in v0.14.0. Assign the `y` variable to `hue` and set `legend=False` for the same effect.\n",
      "\n",
      "\n"
     ]
    },
    {
     "data": {
      "text/plain": [
       "<Figure size 800x500 with 1 Axes>"
      ],
      "image/png": "[encoded data removed]"
     },
     "metadata": {},
     "output_type": "display_data"
    }
   ],
   "execution_count": 66
  },
  {
   "metadata": {
    "ExecuteTime": {
     "end_time": "2025-08-07T07:54:25.243273Z",
     "start_time": "2025-08-07T07:54:25.074535Z"
    }
   },
   "cell_type": "code",
   "source": [
    "plt.figure(figsize=(8, 5))\n",
    "sns.barplot(\n",
    "    data=channel_stats.sort_values(\"fraud_count\", ascending=False),\n",
    "    x=\"fraud_count\", y=\"channel\", palette=\"rocket\"\n",
    ")\n",
    "plt.xlabel(\"Fraudulent Transactions\")\n",
    "plt.ylabel(\"Channel\")\n",
    "plt.title(\"Absolute Number of Fraud Cases by Channel\")\n",
    "plt.tight_layout()\n",
    "plt.show()\n"
   ],
   "id": "99a9dd2c36997786",
   "outputs": [
    {
     "name": "stderr",
     "output_type": "stream",
     "text": [
      "/tmp/ipykernel_381129/31271195.py:2: FutureWarning:\n",
      "\n",
      "\n",
      "\n",
      "Passing `palette` without assigning `hue` is deprecated and will be removed in v0.14.0. Assign the `y` variable to `hue` and set `legend=False` for the same effect.\n",
      "\n",
      "\n"
     ]
    },
    {
     "data": {
      "text/plain": [
       "<Figure size 800x500 with 1 Axes>"
      ],
      "image/png": "[encoded data removed]"
     },
     "metadata": {},
     "output_type": "display_data"
    }
   ],
   "execution_count": 68
  },
  {
   "metadata": {},
   "cell_type": "markdown",
   "source": "## Теперь онлайн",
   "id": "7d1d245437969a9f"
  },
  {
   "metadata": {
    "ExecuteTime": {
     "end_time": "2025-08-07T07:46:55.663274Z",
     "start_time": "2025-08-07T07:46:54.045770Z"
    }
   },
   "cell_type": "code",
   "source": [
    "fraud_by_country_channel_no_pos = (\n",
    "    df\n",
    "    .filter(\n",
    "        pl.col(\"country\").is_not_null() &\n",
    "        pl.col(\"channel\").is_not_null() &\n",
    "        (pl.col(\"channel\") != \"pos\")\n",
    "    )\n",
    "    .group_by([\"country\", \"channel\"])\n",
    "    .agg([\n",
    "        pl.count().alias(\"total\"),\n",
    "        pl.col(\"is_fraud\").sum().alias(\"frauds\")\n",
    "    ])\n",
    "    .with_columns([\n",
    "        (pl.col(\"frauds\") / pl.col(\"total\")).alias(\"fraud_rate\")\n",
    "    ])\n",
    ")\n",
    "max_online_fraud_channel_by_country = (\n",
    "    fraud_by_country_channel_no_pos\n",
    "    .sort([\"country\", \"fraud_rate\"], descending=[False, True])\n",
    "    .group_by(\"country\")\n",
    "    .agg([\n",
    "        pl.col(\"channel\").first().alias(\"worst_channel\"),\n",
    "        pl.col(\"fraud_rate\").first().alias(\"fraud_rate\")\n",
    "    ])\n",
    "    .sort(\"fraud_rate\", descending=True)\n",
    "    .to_pandas()\n",
    ")\n",
    "\n",
    "plt.figure(figsize=(12, 10))\n",
    "sns.barplot(\n",
    "    data=max_online_fraud_channel_by_country.head(20),  # ТОП-20 стран по риску\n",
    "    y=\"country\",\n",
    "    x=\"fraud_rate\",\n",
    "    hue=\"worst_channel\",\n",
    "    dodge=False,\n",
    "    palette=\"Set2\"\n",
    ")\n",
    "plt.xlabel(\"Fraud Rate (Excluding POS)\")\n",
    "plt.ylabel(\"Country\")\n",
    "plt.title(\"Top Fraud Channels by Country (POS Excluded)\")\n",
    "plt.legend(title=\"Channel\", loc=\"lower right\")\n",
    "plt.tight_layout()\n",
    "plt.show()\n"
   ],
   "id": "23b5fb2744b67f63",
   "outputs": [
    {
     "name": "stderr",
     "output_type": "stream",
     "text": [
      "/tmp/ipykernel_381129/1650174787.py:10: DeprecationWarning:\n",
      "\n",
      "`pl.count()` is deprecated. Please use `pl.len()` instead.\n",
      "(Deprecated in version 0.20.5)\n",
      "\n"
     ]
    },
    {
     "data": {
      "text/plain": [
       "<Figure size 1200x1000 with 1 Axes>"
      ],
      "image/png": "[encoded data removed]"
     },
     "metadata": {},
     "output_type": "display_data"
    }
   ],
   "execution_count": 58
  },
  {
   "metadata": {},
   "cell_type": "markdown",
   "source": "# В доллары",
   "id": "9d79b3b461d05b45"
  },
  {
   "metadata": {
    "ExecuteTime": {
     "end_time": "2025-08-07T08:08:28.522975Z",
     "start_time": "2025-08-07T08:08:26.838940Z"
    }
   },
   "cell_type": "code",
   "source": [
    "df_tx = pl.read_parquet(\"transaction_fraud_data.parquet\")\n",
    "df_fx = pl.read_parquet(\"historical_currency_exchange.parquet\")\n",
    "\n",
    "df_tx = df_tx.with_columns([\n",
    "    pl.col(\"timestamp\").dt.date().alias(\"tx_date\")\n",
    "])\n",
    "\n",
    "df_fx_long = df_fx.melt(\n",
    "    id_vars=\"date\",\n",
    "    variable_name=\"currency\",\n",
    "    value_name=\"rate_to_usd\"\n",
    ")\n",
    "\n",
    "df_joined = df_tx.join(\n",
    "    df_fx_long,\n",
    "    left_on=[\"tx_date\", \"currency\"],\n",
    "    right_on=[\"date\", \"currency\"],\n",
    "    how=\"left\"\n",
    ")\n",
    "\n",
    "df_joined = df_joined.with_columns([\n",
    "    (pl.col(\"amount\") / pl.col(\"rate_to_usd\")).alias(\"amount_usd\")\n",
    "])\n",
    "\n",
    "df_joined.select([\n",
    "    \"timestamp\", \"currency\", \"amount\", \"rate_to_usd\", \"amount_usd\"\n",
    "]).filter(pl.col(\"currency\") != \"USD\").sample(5)\n"
   ],
   "id": "6f2b2b6027613d37",
   "outputs": [
    {
     "name": "stderr",
     "output_type": "stream",
     "text": [
      "/tmp/ipykernel_389860/2749943922.py:8: DeprecationWarning: `DataFrame.melt` is deprecated; use `DataFrame.unpivot` instead, with `index` instead of `id_vars` and `on` instead of `value_vars`\n",
      "  df_fx_long = df_fx.melt(\n"
     ]
    },
    {
     "data": {
      "text/plain": [
       "shape: (5, 5)\n",
       "┌────────────────────────────┬──────────┬──────────┬─────────────┬────────────┐\n",
       "│ timestamp                  ┆ currency ┆ amount   ┆ rate_to_usd ┆ amount_usd │\n",
       "│ ---                        ┆ ---      ┆ ---      ┆ ---         ┆ ---        │\n",
       "│ datetime[μs]               ┆ str      ┆ f64      ┆ f64         ┆ f64        │\n",
       "╞════════════════════════════╪══════════╪══════════╪═════════════╪════════════╡\n",
       "│ 2024-10-06 05:09:55.307366 ┆ GBP      ┆ 78.13    ┆ 0.762157    ┆ 102.511629 │\n",
       "│ 2024-10-21 07:23:44.558629 ┆ SGD      ┆ 652.83   ┆ 1.309439    ┆ 498.55697  │\n",
       "│ 2024-10-18 07:44:42.135989 ┆ MXN      ┆ 89.11    ┆ 19.819733   ┆ 4.496024   │\n",
       "│ 2024-10-05 04:12:34.516568 ┆ NGN      ┆ 1.4198e6 ┆ 1619.465727 ┆ 876.723475 │\n",
       "│ 2024-10-03 11:50:17.771865 ┆ SGD      ┆ 435.37   ┆ 1.294391    ┆ 336.351182 │\n",
       "└────────────────────────────┴──────────┴──────────┴─────────────┴────────────┘"
      ],
      "text/html": [
       "<div><style>\n",
       ".dataframe > thead > tr,\n",
       ".dataframe > tbody > tr {\n",
       "  text-align: right;\n",
       "  white-space: pre-wrap;\n",
       "}\n",
       "</style>\n",
       "<small>shape: (5, 5)</small><table border=\"1\" class=\"dataframe\"><thead><tr><th>timestamp</th><th>currency</th><th>amount</th><th>rate_to_usd</th><th>amount_usd</th></tr><tr><td>datetime[μs]</td><td>str</td><td>f64</td><td>f64</td><td>f64</td></tr></thead><tbody><tr><td>2024-10-06 05:09:55.307366</td><td>&quot;GBP&quot;</td><td>78.13</td><td>0.762157</td><td>102.511629</td></tr><tr><td>2024-10-21 07:23:44.558629</td><td>&quot;SGD&quot;</td><td>652.83</td><td>1.309439</td><td>498.55697</td></tr><tr><td>2024-10-18 07:44:42.135989</td><td>&quot;MXN&quot;</td><td>89.11</td><td>19.819733</td><td>4.496024</td></tr><tr><td>2024-10-05 04:12:34.516568</td><td>&quot;NGN&quot;</td><td>1.4198e6</td><td>1619.465727</td><td>876.723475</td></tr><tr><td>2024-10-03 11:50:17.771865</td><td>&quot;SGD&quot;</td><td>435.37</td><td>1.294391</td><td>336.351182</td></tr></tbody></table></div>"
      ]
     },
     "execution_count": 2,
     "metadata": {},
     "output_type": "execute_result"
    }
   ],
   "execution_count": 2
  },
  {
   "metadata": {},
   "cell_type": "markdown",
   "source": "# Топ фроды",
   "id": "94fc080e12fda681"
  },
  {
   "metadata": {
    "ExecuteTime": {
     "end_time": "2025-08-07T08:08:33.750605Z",
     "start_time": "2025-08-07T08:08:33.200460Z"
    }
   },
   "cell_type": "code",
   "source": [
    "df_joined\\\n",
    ".filter(pl.col(\"is_fraud\") & pl.col(\"amount_usd\").is_not_null())\\\n",
    ".sort(\"amount_usd\", descending=True)\\\n",
    ".select([\n",
    "    \"timestamp\", \"customer_id\", \"country\", \"city\", \"channel\", \"device\",\n",
    "    \"vendor_category\", \"amount\", \"currency\", \"amount_usd\"\n",
    "])\\\n",
    ".head(20)\n"
   ],
   "id": "3e9228479016a785",
   "outputs": [
    {
     "data": {
      "text/plain": [
       "shape: (20, 10)\n",
       "┌───────────┬───────────┬───────────┬───────────┬───┬───────────┬───────────┬──────────┬───────────┐\n",
       "│ timestamp ┆ customer_ ┆ country   ┆ city      ┆ … ┆ vendor_ca ┆ amount    ┆ currency ┆ amount_us │\n",
       "│ ---       ┆ id        ┆ ---       ┆ ---       ┆   ┆ tegory    ┆ ---       ┆ ---      ┆ d         │\n",
       "│ datetime[ ┆ ---       ┆ str       ┆ str       ┆   ┆ ---       ┆ f64       ┆ str      ┆ ---       │\n",
       "│ μs]       ┆ str       ┆           ┆           ┆   ┆ str       ┆           ┆          ┆ f64       │\n",
       "╞═══════════╪═══════════╪═══════════╪═══════════╪═══╪═══════════╪═══════════╪══════════╪═══════════╡\n",
       "│ 2024-10-1 ┆ CUST_8474 ┆ Mexico    ┆ Unknown   ┆ … ┆ Travel    ┆ 304393.59 ┆ MXN      ┆ 15781.540 │\n",
       "│ 2 04:10:1 ┆ 4         ┆           ┆ City      ┆   ┆           ┆           ┆          ┆ 993       │\n",
       "│ 1.069878  ┆           ┆           ┆           ┆   ┆           ┆           ┆          ┆           │\n",
       "│ 2024-10-0 ┆ CUST_6166 ┆ Mexico    ┆ Unknown   ┆ … ┆ Travel    ┆ 303546.23 ┆ MXN      ┆ 15757.587 │\n",
       "│ 7 04:45:4 ┆ 1         ┆           ┆ City      ┆   ┆           ┆           ┆          ┆ 128       │\n",
       "│ 6.947073  ┆           ┆           ┆           ┆   ┆           ┆           ┆          ┆           │\n",
       "│ 2024-10-0 ┆ CUST_9153 ┆ Mexico    ┆ Unknown   ┆ … ┆ Travel    ┆ 303356.28 ┆ MXN      ┆ 15720.078 │\n",
       "│ 8 02:47:5 ┆ 2         ┆           ┆ City      ┆   ┆           ┆           ┆          ┆ 49        │\n",
       "│ 5.592891  ┆           ┆           ┆           ┆   ┆           ┆           ┆          ┆           │\n",
       "│ 2024-09-3 ┆ CUST_5833 ┆ Singapore ┆ Unknown   ┆ … ┆ Travel    ┆ 20090.47  ┆ SGD      ┆ 15693.767 │\n",
       "│ 0 20:19:3 ┆ 7         ┆           ┆ City      ┆   ┆           ┆           ┆          ┆ 745       │\n",
       "│ 3.790011  ┆           ┆           ┆           ┆   ┆           ┆           ┆          ┆           │\n",
       "│ 2024-10-1 ┆ CUST_5218 ┆ Singapore ┆ Unknown   ┆ … ┆ Travel    ┆ 20475.8   ┆ SGD      ┆ 15682.188 │\n",
       "│ 4 02:55:4 ┆ 8         ┆           ┆ City      ┆   ┆           ┆           ┆          ┆ 327       │\n",
       "│ 3.645247  ┆           ┆           ┆           ┆   ┆           ┆           ┆          ┆           │\n",
       "│ …         ┆ …         ┆ …         ┆ …         ┆ … ┆ …         ┆ …         ┆ …        ┆ …         │\n",
       "│ 2024-10-1 ┆ CUST_7802 ┆ Mexico    ┆ Unknown   ┆ … ┆ Travel    ┆ 299659.98 ┆ MXN      ┆ 15544.818 │\n",
       "│ 3 02:42:0 ┆ 0         ┆           ┆ City      ┆   ┆           ┆           ┆          ┆ 154       │\n",
       "│ 5.988032  ┆           ┆           ┆           ┆   ┆           ┆           ┆          ┆           │\n",
       "│ 2024-10-0 ┆ CUST_8967 ┆ Mexico    ┆ Unknown   ┆ … ┆ Travel    ┆ 299383.4  ┆ MXN      ┆ 15524.332 │\n",
       "│ 6 23:37:0 ┆ 7         ┆           ┆ City      ┆   ┆           ┆           ┆          ┆ 197       │\n",
       "│ 0.926217  ┆           ┆           ┆           ┆   ┆           ┆           ┆          ┆           │\n",
       "│ 2024-10-0 ┆ CUST_2723 ┆ Singapore ┆ Unknown   ┆ … ┆ Travel    ┆ 20245.47  ┆ SGD      ┆ 15519.227 │\n",
       "│ 6 01:04:1 ┆ 8         ┆           ┆ City      ┆   ┆           ┆           ┆          ┆ 056       │\n",
       "│ 7.372726  ┆           ┆           ┆           ┆   ┆           ┆           ┆          ┆           │\n",
       "│ 2024-10-1 ┆ CUST_2396 ┆ Singapore ┆ Unknown   ┆ … ┆ Travel    ┆ 20261.6   ┆ SGD      ┆ 15511.765 │\n",
       "│ 1 10:47:1 ┆ 3         ┆           ┆ City      ┆   ┆           ┆           ┆          ┆ 541       │\n",
       "│ 1.069981  ┆           ┆           ┆           ┆   ┆           ┆           ┆          ┆           │\n",
       "│ 2024-10-1 ┆ CUST_8645 ┆ Singapore ┆ Unknown   ┆ … ┆ Travel    ┆ 20227.3   ┆ SGD      ┆ 15491.864 │\n",
       "│ 4 07:30:0 ┆ 2         ┆           ┆ City      ┆   ┆           ┆           ┆          ┆ 931       │\n",
       "│ 5.020662  ┆           ┆           ┆           ┆   ┆           ┆           ┆          ┆           │\n",
       "└───────────┴───────────┴───────────┴───────────┴───┴───────────┴───────────┴──────────┴───────────┘"
      ],
      "text/html": [
       "<div><style>\n",
       ".dataframe > thead > tr,\n",
       ".dataframe > tbody > tr {\n",
       "  text-align: right;\n",
       "  white-space: pre-wrap;\n",
       "}\n",
       "</style>\n",
       "<small>shape: (20, 10)</small><table border=\"1\" class=\"dataframe\"><thead><tr><th>timestamp</th><th>customer_id</th><th>country</th><th>city</th><th>channel</th><th>device</th><th>vendor_category</th><th>amount</th><th>currency</th><th>amount_usd</th></tr><tr><td>datetime[μs]</td><td>str</td><td>str</td><td>str</td><td>str</td><td>str</td><td>str</td><td>f64</td><td>str</td><td>f64</td></tr></thead><tbody><tr><td>2024-10-12 04:10:11.069878</td><td>&quot;CUST_84744&quot;</td><td>&quot;Mexico&quot;</td><td>&quot;Unknown City&quot;</td><td>&quot;web&quot;</td><td>&quot;Firefox&quot;</td><td>&quot;Travel&quot;</td><td>304393.59</td><td>&quot;MXN&quot;</td><td>15781.540993</td></tr><tr><td>2024-10-07 04:45:46.947073</td><td>&quot;CUST_61661&quot;</td><td>&quot;Mexico&quot;</td><td>&quot;Unknown City&quot;</td><td>&quot;mobile&quot;</td><td>&quot;Android App&quot;</td><td>&quot;Travel&quot;</td><td>303546.23</td><td>&quot;MXN&quot;</td><td>15757.587128</td></tr><tr><td>2024-10-08 02:47:55.592891</td><td>&quot;CUST_91532&quot;</td><td>&quot;Mexico&quot;</td><td>&quot;Unknown City&quot;</td><td>&quot;pos&quot;</td><td>&quot;NFC Payment&quot;</td><td>&quot;Travel&quot;</td><td>303356.28</td><td>&quot;MXN&quot;</td><td>15720.07849</td></tr><tr><td>2024-09-30 20:19:33.790011</td><td>&quot;CUST_58337&quot;</td><td>&quot;Singapore&quot;</td><td>&quot;Unknown City&quot;</td><td>&quot;web&quot;</td><td>&quot;Safari&quot;</td><td>&quot;Travel&quot;</td><td>20090.47</td><td>&quot;SGD&quot;</td><td>15693.767745</td></tr><tr><td>2024-10-14 02:55:43.645247</td><td>&quot;CUST_52188&quot;</td><td>&quot;Singapore&quot;</td><td>&quot;Unknown City&quot;</td><td>&quot;pos&quot;</td><td>&quot;Magnetic Stripe&quot;</td><td>&quot;Travel&quot;</td><td>20475.8</td><td>&quot;SGD&quot;</td><td>15682.188327</td></tr><tr><td>&hellip;</td><td>&hellip;</td><td>&hellip;</td><td>&hellip;</td><td>&hellip;</td><td>&hellip;</td><td>&hellip;</td><td>&hellip;</td><td>&hellip;</td><td>&hellip;</td></tr><tr><td>2024-10-13 02:42:05.988032</td><td>&quot;CUST_78020&quot;</td><td>&quot;Mexico&quot;</td><td>&quot;Unknown City&quot;</td><td>&quot;web&quot;</td><td>&quot;Firefox&quot;</td><td>&quot;Travel&quot;</td><td>299659.98</td><td>&quot;MXN&quot;</td><td>15544.818154</td></tr><tr><td>2024-10-06 23:37:00.926217</td><td>&quot;CUST_89677&quot;</td><td>&quot;Mexico&quot;</td><td>&quot;Unknown City&quot;</td><td>&quot;pos&quot;</td><td>&quot;NFC Payment&quot;</td><td>&quot;Travel&quot;</td><td>299383.4</td><td>&quot;MXN&quot;</td><td>15524.332197</td></tr><tr><td>2024-10-06 01:04:17.372726</td><td>&quot;CUST_27238&quot;</td><td>&quot;Singapore&quot;</td><td>&quot;Unknown City&quot;</td><td>&quot;pos&quot;</td><td>&quot;NFC Payment&quot;</td><td>&quot;Travel&quot;</td><td>20245.47</td><td>&quot;SGD&quot;</td><td>15519.227056</td></tr><tr><td>2024-10-11 10:47:11.069981</td><td>&quot;CUST_23963&quot;</td><td>&quot;Singapore&quot;</td><td>&quot;Unknown City&quot;</td><td>&quot;web&quot;</td><td>&quot;Firefox&quot;</td><td>&quot;Travel&quot;</td><td>20261.6</td><td>&quot;SGD&quot;</td><td>15511.765541</td></tr><tr><td>2024-10-14 07:30:05.020662</td><td>&quot;CUST_86452&quot;</td><td>&quot;Singapore&quot;</td><td>&quot;Unknown City&quot;</td><td>&quot;web&quot;</td><td>&quot;Firefox&quot;</td><td>&quot;Travel&quot;</td><td>20227.3</td><td>&quot;SGD&quot;</td><td>15491.864931</td></tr></tbody></table></div>"
      ]
     },
     "execution_count": 3,
     "metadata": {},
     "output_type": "execute_result"
    }
   ],
   "execution_count": 3
  },
  {
   "metadata": {
    "ExecuteTime": {
     "end_time": "2025-08-07T08:08:56.910126Z",
     "start_time": "2025-08-07T08:08:41.782334Z"
    }
   },
   "cell_type": "code",
   "source": [
    "import polars as pl\n",
    "import numpy as np\n",
    "from sklearn.preprocessing import OneHotEncoder\n",
    "from sklearn.cluster import KMeans\n",
    "\n",
    "# Фильтрация данных и логарифмирование суммы\n",
    "df_clust = (\n",
    "    df_joined\n",
    "    .filter(pl.col(\"amount_usd\").is_not_null() & pl.col(\"device\").is_not_null())\n",
    "    .with_columns([\n",
    "        pl.col(\"amount_usd\").log1p().alias(\"amount_usd_log\")\n",
    "    ])\n",
    ")\n",
    "\n",
    "# One-Hot для device\n",
    "devices = df_clust.select(\"device\").to_series().to_list()\n",
    "ohe = OneHotEncoder(sparse_output=False)\n",
    "device_ohe = ohe.fit_transform(np.array(devices).reshape(-1, 1))\n",
    "\n",
    "# Признаки для кластеризации\n",
    "X = np.hstack([df_clust.select(\"amount_usd_log\").to_numpy(), device_ohe])\n",
    "\n",
    "# Кластеризация\n",
    "kmeans = KMeans(n_clusters=5, random_state=42)\n",
    "labels = kmeans.fit_predict(X)\n",
    "\n",
    "# Добавляем результат кластеризации в DataFrame\n",
    "df_clust = df_clust.with_columns(pl.Series(\"cluster\", labels))\n",
    "\n",
    "# Метрики по кластерам\n",
    "cluster_stats = (\n",
    "    df_clust.group_by(\"cluster\")\n",
    "    .agg([\n",
    "        pl.count().alias(\"n_tx\"),\n",
    "        pl.col(\"amount_usd\").sum().alias(\"sum_usd\"),\n",
    "        pl.col(\"amount_usd\").mean().alias(\"mean_usd\"),\n",
    "        pl.col(\"is_fraud\").mean().alias(\"fraud_rate\")\n",
    "    ])\n",
    "    .sort(\"cluster\")\n",
    ")\n",
    "cluster_stats"
   ],
   "id": "3ec6f9bc9664b77f",
   "outputs": [
    {
     "name": "stderr",
     "output_type": "stream",
     "text": [
      "/tmp/ipykernel_389860/1333971348.py:34: DeprecationWarning: `pl.count()` is deprecated. Please use `pl.len()` instead.\n",
      "(Deprecated in version 0.20.5)\n",
      "  pl.count().alias(\"n_tx\"),\n"
     ]
    },
    {
     "data": {
      "text/plain": [
       "shape: (5, 5)\n",
       "┌─────────┬─────────┬──────────┬─────────────┬────────────┐\n",
       "│ cluster ┆ n_tx    ┆ sum_usd  ┆ mean_usd    ┆ fraud_rate │\n",
       "│ ---     ┆ ---     ┆ ---      ┆ ---         ┆ ---        │\n",
       "│ i32     ┆ u32     ┆ f64      ┆ f64         ┆ f64        │\n",
       "╞═════════╪═════════╪══════════╪═════════════╪════════════╡\n",
       "│ 0       ┆ 1565791 ┆ 2.3501e9 ┆ 1500.884895 ┆ 0.382467   │\n",
       "│ 1       ┆ 1464736 ┆ 1.5065e8 ┆ 102.851698  ┆ 0.090287   │\n",
       "│ 2       ┆ 3213281 ┆ 1.2411e9 ┆ 386.244583  ┆ 0.083267   │\n",
       "│ 3       ┆ 461528  ┆ 1.0132e6 ┆ 2.195419    ┆ 0.97944    │\n",
       "│ 4       ┆ 778430  ┆ 3.1810e8 ┆ 408.646533  ┆ 0.056537   │\n",
       "└─────────┴─────────┴──────────┴─────────────┴────────────┘"
      ],
      "text/html": [
       "<div><style>\n",
       ".dataframe > thead > tr,\n",
       ".dataframe > tbody > tr {\n",
       "  text-align: right;\n",
       "  white-space: pre-wrap;\n",
       "}\n",
       "</style>\n",
       "<small>shape: (5, 5)</small><table border=\"1\" class=\"dataframe\"><thead><tr><th>cluster</th><th>n_tx</th><th>sum_usd</th><th>mean_usd</th><th>fraud_rate</th></tr><tr><td>i32</td><td>u32</td><td>f64</td><td>f64</td><td>f64</td></tr></thead><tbody><tr><td>0</td><td>1565791</td><td>2.3501e9</td><td>1500.884895</td><td>0.382467</td></tr><tr><td>1</td><td>1464736</td><td>1.5065e8</td><td>102.851698</td><td>0.090287</td></tr><tr><td>2</td><td>3213281</td><td>1.2411e9</td><td>386.244583</td><td>0.083267</td></tr><tr><td>3</td><td>461528</td><td>1.0132e6</td><td>2.195419</td><td>0.97944</td></tr><tr><td>4</td><td>778430</td><td>3.1810e8</td><td>408.646533</td><td>0.056537</td></tr></tbody></table></div>"
      ]
     },
     "execution_count": 4,
     "metadata": {},
     "output_type": "execute_result"
    }
   ],
   "execution_count": 4
  },
  {
   "metadata": {
    "ExecuteTime": {
     "end_time": "2025-08-07T08:08:57.510282Z",
     "start_time": "2025-08-07T08:08:57.058775Z"
    }
   },
   "cell_type": "code",
   "source": [
    "# ТОП-5 стран по каждой группе\n",
    "top_countries = (\n",
    "    df_clust.group_by([\"cluster\", \"country\"])\n",
    "    .agg(pl.count().alias(\"count\"))\n",
    "    .sort([\"cluster\", \"count\"], descending=[False, True])\n",
    "    .group_by(\"cluster\")\n",
    "    .agg([\n",
    "        pl.col(\"country\").head(5).alias(\"top_countries\"),\n",
    "        pl.col(\"count\").head(5).alias(\"top_counts\")\n",
    "    ])\n",
    "    .sort(\"cluster\")\n",
    ")\n",
    "\n",
    "top_countries\n"
   ],
   "id": "79f29d05fdd9f839",
   "outputs": [
    {
     "name": "stderr",
     "output_type": "stream",
     "text": [
      "/tmp/ipykernel_389860/2685577374.py:4: DeprecationWarning: `pl.count()` is deprecated. Please use `pl.len()` instead.\n",
      "(Deprecated in version 0.20.5)\n",
      "  .agg(pl.count().alias(\"count\"))\n"
     ]
    },
    {
     "data": {
      "text/plain": [
       "shape: (5, 3)\n",
       "┌─────────┬─────────────────────────────────┬────────────────────────────┐\n",
       "│ cluster ┆ top_countries                   ┆ top_counts                 │\n",
       "│ ---     ┆ ---                             ┆ ---                        │\n",
       "│ i32     ┆ list[str]                       ┆ list[u32]                  │\n",
       "╞═════════╪═════════════════════════════════╪════════════════════════════╡\n",
       "│ 0       ┆ [\"Mexico\", \"Brazil\", … \"German… ┆ [248091, 232774, … 112305] │\n",
       "│ 1       ┆ [\"Nigeria\", \"Russia\", … \"Canad… ┆ [468928, 127041, … 88380]  │\n",
       "│ 2       ┆ [\"Brazil\", \"Russia\", … \"France… ┆ [306486, 297748, … 270994] │\n",
       "│ 3       ┆ [\"Nigeria\", \"Mexico\", … \"Austr… ┆ [101922, 90084, … 11387]   │\n",
       "│ 4       ┆ [\"Canada\", \"Russia\", … \"Mexico… ┆ [78684, 75182, … 69460]    │\n",
       "└─────────┴─────────────────────────────────┴────────────────────────────┘"
      ],
      "text/html": [
       "<div><style>\n",
       ".dataframe > thead > tr,\n",
       ".dataframe > tbody > tr {\n",
       "  text-align: right;\n",
       "  white-space: pre-wrap;\n",
       "}\n",
       "</style>\n",
       "<small>shape: (5, 3)</small><table border=\"1\" class=\"dataframe\"><thead><tr><th>cluster</th><th>top_countries</th><th>top_counts</th></tr><tr><td>i32</td><td>list[str]</td><td>list[u32]</td></tr></thead><tbody><tr><td>0</td><td>[&quot;Mexico&quot;, &quot;Brazil&quot;, … &quot;Germany&quot;]</td><td>[248091, 232774, … 112305]</td></tr><tr><td>1</td><td>[&quot;Nigeria&quot;, &quot;Russia&quot;, … &quot;Canada&quot;]</td><td>[468928, 127041, … 88380]</td></tr><tr><td>2</td><td>[&quot;Brazil&quot;, &quot;Russia&quot;, … &quot;France&quot;]</td><td>[306486, 297748, … 270994]</td></tr><tr><td>3</td><td>[&quot;Nigeria&quot;, &quot;Mexico&quot;, … &quot;Australia&quot;]</td><td>[101922, 90084, … 11387]</td></tr><tr><td>4</td><td>[&quot;Canada&quot;, &quot;Russia&quot;, … &quot;Mexico&quot;]</td><td>[78684, 75182, … 69460]</td></tr></tbody></table></div>"
      ]
     },
     "execution_count": 5,
     "metadata": {},
     "output_type": "execute_result"
    }
   ],
   "execution_count": 5
  },
  {
   "metadata": {},
   "cell_type": "code",
   "outputs": [],
   "execution_count": null,
   "source": "",
   "id": "ba9e7093242426db"
  }
 ],
 "metadata": {
  "kernelspec": {
   "display_name": "Python 3",
   "language": "python",
   "name": "python3"
  },
  "language_info": {
   "codemirror_mode": {
    "name": "ipython",
    "version": 2
   },
   "file_extension": ".py",
   "mimetype": "text/x-python",
   "name": "python",
   "nbconvert_exporter": "python",
   "pygments_lexer": "ipython2",
   "version": "2.7.6"
  }
 },
 "nbformat": 4,
 "nbformat_minor": 5
}
